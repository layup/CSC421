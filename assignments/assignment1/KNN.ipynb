{
 "cells": [
  {
   "cell_type": "markdown",
   "metadata": {},
   "source": [
    "### Load the libraries "
   ]
  },
  {
   "cell_type": "code",
   "execution_count": 1,
   "metadata": {},
   "outputs": [],
   "source": [
    "import torch\n",
    "import torchvision\n",
    "from torch.utils.data import DataLoader\n",
    "from torchvision import datasets, transforms\n",
    "from torchvision.transforms import ToTensor, Compose\n",
    "import matplotlib.pyplot as plt\n",
    "import numpy as np\n",
    "import time "
   ]
  },
  {
   "cell_type": "markdown",
   "metadata": {},
   "source": [
    "### Prepare the Data "
   ]
  },
  {
   "cell_type": "code",
   "execution_count": 2,
   "metadata": {},
   "outputs": [],
   "source": [
    "train_dataset = datasets.CIFAR10(root='data/', download=False, train=True, transform=ToTensor())\n",
    "test_dataset = datasets.CIFAR10(root='data/', download=False, train=False, transform=ToTensor())"
   ]
  },
  {
   "cell_type": "code",
   "execution_count": 7,
   "metadata": {},
   "outputs": [
    {
     "name": "stdout",
     "output_type": "stream",
     "text": [
      "(50000, 32, 32, 3)\n",
      "(50000, 1)\n",
      "(10000, 32, 32, 3)\n",
      "(10000, 1)\n"
     ]
    }
   ],
   "source": [
    "X_train = train_dataset.data\n",
    "y_train = np.array(train_dataset.targets)\n",
    "\n",
    "X_test = test_dataset.data\n",
    "y_test = np.array(test_dataset.targets)\n",
    "\n",
    "#normalize the data for testing \n",
    "y_train = y_train.reshape(-1,1)\n",
    "y_test = y_test.reshape(-1,1)\n",
    "\n",
    "#reduce the range of the data to be between the range of 0.0 and 1.0 \n",
    "X_train = (X_train/255) \n",
    "X_test = (X_test/255)\n",
    "\n",
    "\n",
    "print(X_train.shape)\n",
    "print(y_train.shape)\n",
    "print(X_test.shape)\n",
    "print(y_test.shape)"
   ]
  },
  {
   "cell_type": "code",
   "execution_count": 8,
   "metadata": {},
   "outputs": [
    {
     "name": "stdout",
     "output_type": "stream",
     "text": [
      "(50000, 3072)\n",
      "(50000, 1)\n",
      "(10000, 3072)\n",
      "(10000, 1)\n"
     ]
    }
   ],
   "source": [
    "train_size = len(X_train)\n",
    "test_size = len(X_test)\n",
    "\n",
    "X_train = X_train.reshape((train_size,32*32*3 ))\n",
    "X_test = X_test.reshape((test_size, 32*32*3))\n",
    "\n",
    "print(X_train.shape)\n",
    "print(y_train.shape)\n",
    "print(X_test.shape)\n",
    "print(y_test.shape)"
   ]
  },
  {
   "cell_type": "markdown",
   "metadata": {},
   "source": [
    "**Subsample from the dataset** "
   ]
  },
  {
   "cell_type": "code",
   "execution_count": 5,
   "metadata": {},
   "outputs": [
    {
     "name": "stdout",
     "output_type": "stream",
     "text": [
      "(25000, 3072) (10000, 3072)\n",
      "(25000, 1) (10000, 1)\n"
     ]
    }
   ],
   "source": [
    "sample_training_size = 25000\n",
    "\n",
    "X_train = np.array(X_train[0:sample_training_size])\n",
    "y_train = np.array(y_train[0:sample_training_size])\n",
    "\n",
    "sample_testing_size = 10000\n",
    "\n",
    "X_test = np.array(X_test[0:sample_testing_size])\n",
    "y_test = np.array(y_test[0:sample_testing_size])\n",
    "\n",
    "print(X_train.shape, X_test.shape)\n",
    "print(y_train.shape, y_test.shape)"
   ]
  },
  {
   "cell_type": "markdown",
   "metadata": {},
   "source": [
    "## KNN Classifer "
   ]
  },
  {
   "cell_type": "code",
   "execution_count": 6,
   "metadata": {},
   "outputs": [],
   "source": [
    "class KNearestNeighbor(): \n",
    "\n",
    "  def __init__(self, k): \n",
    "    super().__init__()\n",
    "    self.k = k \n",
    "\n",
    "  def train(self, X, y): \n",
    "    self.X_train = X \n",
    "    self.y_train = y\n",
    "  \n",
    "  def test(self, X): \n",
    "    self.X_test = X \n",
    "\n",
    "    train_size = self.X_train.shape[0]\n",
    "    test_size = self.X_test.shape[0] \n",
    "\n",
    "    dist_matrix = np.zeros((test_size, train_size)) \n",
    "\n",
    "    dist_matrix = ((- 2 * np.dot(self.X_test, self.X_train.T)) + (np.sum(self.X_train**2, axis=1 )) + (np.sum(self.X_test**2, axis = 1))) ** .5, np.newaxis]  ))\n",
    "\n",
    "    self.dist_matrix = dist_matrix \n",
    "\n",
    "  def predictions(self):\n",
    "\n",
    "    test_size = self.dist_matrix.shape[0]\n",
    "    y_pred = np.array([]) \n",
    "\n",
    "    for i in range(test_size):\n",
    "      sorted_dist = np.argsort(self.dist_matrix[i])\n",
    "      k_nearest_dist = self.y_train[sorted_dist[:self.k]]\n",
    "\n",
    "      #flatten into 1D Array \n",
    "      k_nearest_dist = np.ravel(k_nearest_dist)\n",
    "      count = np.bincount(k_nearest_dist) \n",
    "\n",
    "      #Opt 1: Consistent Choice \n",
    "      most_freq=np.argmax(count)\n",
    "\n",
    "      #Opt 2: randomly break tie \n",
    "      #total_ties = np.where(count == count.max())[0]\n",
    "      #most_freq = np.random.choice(total_ties)\n",
    "\n",
    "      y_pred = np.append(y_pred, most_freq)\n",
    "\n",
    "    return y_pred.reshape(-1,1).astype(int)\n",
    "\n",
    "  def predictions_detailed(self):\n",
    "    print('detailed testing')\n",
    "\n",
    "    test_size = self.dist_matrix.shape[0]\n",
    "\n",
    "    y_pred = np.array([]) \n",
    "\n",
    "    for i in range(test_size): #O(N) \n",
    "  \n",
    "      #sort the distances for each section \n",
    "      sorted_dist = np.argsort(self.dist_matrix[i])\n",
    "\n",
    "      #take the k nearest neightbors based on the distance \n",
    "      \n",
    "      k_nearest_dist = self.y_train[sorted_dist[:self.k]]\n",
    "      k_nearest_dist = np.ravel(k_nearest_dist)\n",
    "\n",
    "      #k_nearest = np.array(k_nearest_dist)\n",
    "      print(f'k_nearest_dist: {k_nearest_dist}')\n",
    "      #print(len(k_nearest))\n",
    "      \n",
    "\n",
    "      #assign the category based on the most frequent apperance \n",
    "      count = np.bincount(k_nearest_dist)\n",
    "      print(f'count: {count}')\n",
    "\n",
    "      #if there is a tie randomly select \n",
    "      #total_ties = np.where(count == count.max())[0]\n",
    "      #most_freq = np.random.choice(total_ties)\n",
    "\n",
    "      most_freq = np.argmax(count); \n",
    "      print(f'finding some random stuff: {np.where(count == count.max())[0]}')\n",
    "      \n",
    "      print(f'most frequent val: {most_freq}')\n",
    "      y_pred = np.append(y_pred, most_freq)\n",
    "      print()\n",
    "\n",
    "   \n",
    "    return y_pred.reshape(-1,1).astype(int)  \n"
   ]
  },
  {
   "cell_type": "code",
   "execution_count": 11,
   "metadata": {},
   "outputs": [],
   "source": [
    "classes = train_dataset.classes\n",
    "\n",
    "#to do \n",
    "#implment a return class value \n",
    "def overall_accuracy(y_pred, y_score): \n",
    "  total_pred = np.zeros(10)\n",
    "  correct_pred = np.zeros(10)\n",
    "\n",
    "  for label, prediction in zip(y_score, predictions):\n",
    "    if label[0] == prediction[0]:\n",
    "      correct_pred[label[0]] += 1 \n",
    "    total_pred[label[0]] += 1 \n",
    "\n",
    "  #overall accuracy \n",
    "  num_correct = np.sum(y_pred == y_score)\n",
    "  overall_acc = float(num_correct) / y_score.shape[0]\n",
    "  \n",
    "  print(f'Accuracy {num_correct} / { y_score.shape[0]} correct: {overall_acc}')\n",
    "  print('------------------------------------------------')\n",
    "  # print accuracy for each class\n",
    "  for i in range(10):\n",
    "      accuracy = 100 * float(correct_pred[i]) / total_pred[i]\n",
    "      print(f'Accuracy for {classes[i]} is {accuracy:.2f} %')\n",
    "\n",
    "def subset_accuracy(y_pred, y_score): \n",
    "  pass "
   ]
  },
  {
   "cell_type": "markdown",
   "metadata": {},
   "source": [
    "Training the model for a subset "
   ]
  },
  {
   "cell_type": "code",
   "execution_count": 9,
   "metadata": {},
   "outputs": [
    {
     "name": "stdout",
     "output_type": "stream",
     "text": [
      "Testing on subset of data\n",
      "Starting Training \n",
      "training size: 50000 testing size: 10000\n",
      "Training completed in 1m 25s\n"
     ]
    }
   ],
   "source": [
    "print(\"Testing on subset of data\")\n",
    "\n",
    "model = KNearestNeighbor(5)\n",
    "start_time = time.time()\n",
    "\n",
    "print(\"Starting Training \")\n",
    "print(f\"training size: {X_train.shape[0]} testing size: {X_test.shape[0]}\")\n",
    "model.train(X_train, y_train) \n",
    "model.test(X_test)\n",
    "\n",
    "total_time = time.time() - start_time \n",
    "print('Training completed in {:.0f}m {:.0f}s'.format(total_time // 60, total_time % 60))"
   ]
  },
  {
   "cell_type": "markdown",
   "metadata": {},
   "source": [
    "Model Predictions on test subset "
   ]
  },
  {
   "cell_type": "code",
   "execution_count": 14,
   "metadata": {},
   "outputs": [
    {
     "name": "stdout",
     "output_type": "stream",
     "text": [
      "Inital results from subsampling \n",
      "\n",
      "Accuracy 3414 / 10000 correct: 0.3414\n",
      "------------------------------------------------\n",
      "Accuracy for airplane is 51.90 %\n",
      "Accuracy for automobile is 18.20 %\n",
      "Accuracy for bird is 43.40 %\n",
      "Accuracy for cat is 19.40 %\n",
      "Accuracy for deer is 54.50 %\n",
      "Accuracy for dog is 22.60 %\n",
      "Accuracy for frog is 26.30 %\n",
      "Accuracy for horse is 20.20 %\n",
      "Accuracy for ship is 70.70 %\n",
      "Accuracy for truck is 14.20 %\n"
     ]
    }
   ],
   "source": [
    "print('Inital results from subsampling \\n')\n",
    "predictions = model.predictions()  \n",
    "overall_accuracy(predictions, y_test)"
   ]
  },
  {
   "cell_type": "markdown",
   "metadata": {},
   "source": [
    "## Testing Accuracy "
   ]
  },
  {
   "cell_type": "code",
   "execution_count": 13,
   "metadata": {},
   "outputs": [
    {
     "name": "stdout",
     "output_type": "stream",
     "text": [
      "Testing Accuracy for 3\n",
      "training size: 50000 testing size: 10000\n",
      "Training completed in 1m 43s\n",
      "Accuracy 3303 / 10000 correct: 0.3303\n",
      "------------------------------------------------\n",
      "Accuracy for airplane is 57.30 %\n",
      "Accuracy for automobile is 24.30 %\n",
      "Accuracy for bird is 45.00 %\n",
      "Accuracy for cat is 22.50 %\n",
      "Accuracy for deer is 43.60 %\n",
      "Accuracy for dog is 21.30 %\n",
      "Accuracy for frog is 22.90 %\n",
      "Accuracy for horse is 19.90 %\n",
      "Accuracy for ship is 61.20 %\n",
      "Accuracy for truck is 12.30 %\n",
      "Testing Accuracy for 5\n",
      "training size: 50000 testing size: 10000\n",
      "Training completed in 1m 45s\n",
      "Accuracy 3398 / 10000 correct: 0.3398\n",
      "------------------------------------------------\n",
      "Accuracy for airplane is 53.70 %\n",
      "Accuracy for automobile is 20.50 %\n",
      "Accuracy for bird is 45.20 %\n",
      "Accuracy for cat is 21.70 %\n",
      "Accuracy for deer is 51.40 %\n",
      "Accuracy for dog is 22.00 %\n",
      "Accuracy for frog is 24.80 %\n",
      "Accuracy for horse is 21.00 %\n",
      "Accuracy for ship is 65.50 %\n",
      "Accuracy for truck is 14.00 %\n",
      "Testing Accuracy for 7\n",
      "training size: 50000 testing size: 10000\n",
      "Training completed in 1m 16s\n",
      "Accuracy 3358 / 10000 correct: 0.3358\n",
      "------------------------------------------------\n",
      "Accuracy for airplane is 51.80 %\n",
      "Accuracy for automobile is 19.50 %\n",
      "Accuracy for bird is 43.70 %\n",
      "Accuracy for cat is 19.90 %\n",
      "Accuracy for deer is 52.10 %\n",
      "Accuracy for dog is 20.40 %\n",
      "Accuracy for frog is 26.50 %\n",
      "Accuracy for horse is 19.60 %\n",
      "Accuracy for ship is 68.80 %\n",
      "Accuracy for truck is 13.50 %\n",
      "Testing Accuracy for 11\n",
      "training size: 50000 testing size: 10000\n",
      "Training completed in 1m 34s\n",
      "Accuracy 3414 / 10000 correct: 0.3414\n",
      "------------------------------------------------\n",
      "Accuracy for airplane is 51.90 %\n",
      "Accuracy for automobile is 18.20 %\n",
      "Accuracy for bird is 43.40 %\n",
      "Accuracy for cat is 19.40 %\n",
      "Accuracy for deer is 54.50 %\n",
      "Accuracy for dog is 22.60 %\n",
      "Accuracy for frog is 26.30 %\n",
      "Accuracy for horse is 20.20 %\n",
      "Accuracy for ship is 70.70 %\n",
      "Accuracy for truck is 14.20 %\n"
     ]
    }
   ],
   "source": [
    "knn_values = [3,5,7,11] \n",
    "\n",
    "for item in knn_values: \n",
    "\n",
    "    print(f\"Testing Accuracy for {item}\")\n",
    "    model = KNearestNeighbor(item)\n",
    "    start_time = time.time()\n",
    "\n",
    "\n",
    "    print(f\"training size: {X_train.shape[0]} testing size: {X_test.shape[0]}\")\n",
    "    model.train(X_train, y_train) \n",
    "    model.test(X_test)\n",
    "\n",
    "    total_time = time.time() - start_time \n",
    "    print('Training completed in {:.0f}m {:.0f}s'.format(total_time // 60, total_time % 60))\n",
    "    \n",
    "    predictions = model.predictions()  \n",
    "    overall_accuracy(predictions, y_test)\n",
    "\n"
   ]
  },
  {
   "cell_type": "markdown",
   "metadata": {},
   "source": [
    "## Cross Validation "
   ]
  },
  {
   "cell_type": "code",
   "execution_count": 27,
   "metadata": {},
   "outputs": [
    {
     "name": "stdout",
     "output_type": "stream",
     "text": [
      "(50000, 3072)\n",
      "(50000, 1)\n",
      "5\n",
      "10000\n"
     ]
    }
   ],
   "source": [
    "total_folds = 5\n",
    "knn_values = [3,5,7,11]\n",
    "\n",
    "print(X_train.shape)\n",
    "print(y_train.shape)\n",
    "\n",
    "X_train_fold = np.array_split(X_train, total_folds)\n",
    "y_train_fold = np.array_split(y_train, total_folds)\n",
    "\n",
    "print(len(X_train_fold))\n",
    "print(len(y_train_fold[0]))"
   ]
  },
  {
   "cell_type": "code",
   "execution_count": 28,
   "metadata": {},
   "outputs": [
    {
     "name": "stdout",
     "output_type": "stream",
     "text": [
      "Starting K-Fold Testing\n",
      "K: 03, cv: 0, Runtime: 1m 49s , Accuracy: 0.326\n",
      "K: 03, cv: 1, Runtime: 1m 45s , Accuracy: 0.3261\n",
      "K: 03, cv: 2, Runtime: 1m 30s , Accuracy: 0.328\n",
      "K: 03, cv: 3, Runtime: 1m 36s , Accuracy: 0.3252\n",
      "K: 03, cv: 4, Runtime: 1m 28s , Accuracy: 0.3178\n",
      "K: 05, cv: 0, Runtime: 1m 35s , Accuracy: 0.335\n",
      "K: 05, cv: 1, Runtime: 1m 29s , Accuracy: 0.3297\n",
      "K: 05, cv: 2, Runtime: 1m 31s , Accuracy: 0.3336\n",
      "K: 05, cv: 3, Runtime: 1m 29s , Accuracy: 0.334\n",
      "K: 05, cv: 4, Runtime: 1m 37s , Accuracy: 0.3283\n",
      "K: 07, cv: 0, Runtime: 1m 37s , Accuracy: 0.34\n",
      "K: 07, cv: 1, Runtime: 1m 48s , Accuracy: 0.333\n",
      "K: 07, cv: 2, Runtime: 1m 37s , Accuracy: 0.3356\n",
      "K: 07, cv: 3, Runtime: 1m 39s , Accuracy: 0.331\n",
      "K: 07, cv: 4, Runtime: 1m 33s , Accuracy: 0.3237\n",
      "K: 11, cv: 0, Runtime: 1m 30s , Accuracy: 0.3381\n",
      "K: 11, cv: 1, Runtime: 1m 36s , Accuracy: 0.3243\n",
      "K: 11, cv: 2, Runtime: 1m 38s , Accuracy: 0.3307\n",
      "K: 11, cv: 3, Runtime: 1m 33s , Accuracy: 0.3307\n",
      "K: 11, cv: 4, Runtime: 1m 42s , Accuracy: 0.3232\n",
      "KFold completed in 1m 42s\n"
     ]
    }
   ],
   "source": [
    "#assume already randomly ordered to begin with \n",
    "\n",
    "k_accuraces = []\n",
    "subset_accuraces = [] \n",
    "\n",
    "print(\"Starting K-Fold Testing\")\n",
    "start_time = time.time() \n",
    "for k in knn_values: \n",
    "  \n",
    "  current_k = []\n",
    "\n",
    "  #print(f'Current K: {k}'); \n",
    "  for fold in range(total_folds):\n",
    "    start_time = time.time()\n",
    "    #print(f'Current fold: {fold}')\n",
    "\n",
    "    X_train = []\n",
    "    y_train = []\n",
    "    \n",
    "    for i in [x for x in range(total_folds) if x != fold]: \n",
    "      #temp_x = np.array(X_train_fold[x])\n",
    "      #temp_y = np.array(y_train_fold[x])\n",
    "      #print(f'temp x: {temp_x.shape}, temp y: {temp_y.shape}')\n",
    "      \n",
    "      X_train.append(X_train_fold[i])\n",
    "      y_train.append(y_train_fold[i])\n",
    "\n",
    "      #X_train = np.concatenate(temp_x)\n",
    "      #y_train = np.concatenate(temp_y)\n",
    "    \n",
    "    #define training and test set \n",
    "    X_train = np.concatenate(X_train)\n",
    "    y_train = np.concatenate(y_train)\n",
    "\n",
    "    X_test = X_train_fold[fold]\n",
    "    y_test = y_train_fold[fold]\n",
    "\n",
    "    #define model \n",
    "    model = KNearestNeighbor(k)\n",
    "\n",
    "    model.train(X_train, y_train) \n",
    "    model.test(X_test)\n",
    "\n",
    "    #determine the accuracy \n",
    "    predictions = model.predictions()  \n",
    "\n",
    "    num_correct = np.sum(predictions == y_test)\n",
    "    overall_acc = float(num_correct) / y_test.shape[0]\n",
    "\n",
    "    current_k.append(overall_acc)\n",
    "\n",
    "    total_time = time.time() - start_time \n",
    "    print(f'K: {k:02d}, cv: {fold}, Runtime: {total_time//60:.0f}m {total_time % 60:.0f}s , Accuracy: {overall_acc}')\n",
    "  \n",
    "  #could define a subset of accuraries as well, but would take additional time\n",
    "\n",
    "\n",
    "  k_accuraces.append(current_k)\n",
    "\n",
    "total_time = time.time() - start_time \n",
    "\n",
    "print('KFold completed in {:.0f}m {:.0f}s'.format(total_time // 60, total_time % 60))"
   ]
  },
  {
   "cell_type": "code",
   "execution_count": 29,
   "metadata": {},
   "outputs": [
    {
     "name": "stdout",
     "output_type": "stream",
     "text": [
      "Overall K-Fold Accuracies for each k-nearest neightbour\n",
      "\n",
      "k:03, Overall Accuracy:0.3246\n",
      "k:05, Overall Accuracy:0.3321\n",
      "k:07, Overall Accuracy:0.3327\n",
      "k:11, Overall Accuracy:0.3294\n"
     ]
    }
   ],
   "source": [
    "print('Overall K-Fold Accuracies for each k-nearest neightbour')\n",
    "print('')\n",
    "\n",
    "overall_fold_accuracy = []\n",
    "\n",
    "\n",
    "for index, data in enumerate(k_accuraces):\n",
    "  overall_fold_accuracy.append(np.sum(data)/len(data))\n",
    "\n",
    "for k, accuracy in zip(knn_values, overall_fold_accuracy): \n",
    "  print(f'k:{k:02d}, Overall Accuracy:{accuracy:.4f}')"
   ]
  },
  {
   "cell_type": "markdown",
   "metadata": {},
   "source": [
    "### Image Plots "
   ]
  },
  {
   "cell_type": "code",
   "execution_count": 1,
   "metadata": {},
   "outputs": [
    {
     "ename": "NameError",
     "evalue": "name 'knn_values' is not defined",
     "output_type": "error",
     "traceback": [
      "\u001b[0;31m---------------------------------------------------------------------------\u001b[0m",
      "\u001b[0;31mNameError\u001b[0m                                 Traceback (most recent call last)",
      "\u001b[0;32m<ipython-input-1-58e05f609c07>\u001b[0m in \u001b[0;36m<module>\u001b[0;34m\u001b[0m\n\u001b[0;32m----> 1\u001b[0;31m \u001b[0mx_points\u001b[0m \u001b[0;34m=\u001b[0m \u001b[0mknn_values\u001b[0m\u001b[0;34m\u001b[0m\u001b[0;34m\u001b[0m\u001b[0m\n\u001b[0m\u001b[1;32m      2\u001b[0m \u001b[0my_points\u001b[0m \u001b[0;34m=\u001b[0m \u001b[0moverall_fold_accuracy\u001b[0m\u001b[0;34m\u001b[0m\u001b[0;34m\u001b[0m\u001b[0m\n\u001b[1;32m      3\u001b[0m \u001b[0;34m\u001b[0m\u001b[0m\n\u001b[1;32m      4\u001b[0m \u001b[0;31m# plotting the points\u001b[0m\u001b[0;34m\u001b[0m\u001b[0;34m\u001b[0m\u001b[0;34m\u001b[0m\u001b[0m\n\u001b[1;32m      5\u001b[0m \u001b[0mplt\u001b[0m\u001b[0;34m.\u001b[0m\u001b[0mplot\u001b[0m\u001b[0;34m(\u001b[0m\u001b[0mx_points\u001b[0m\u001b[0;34m,\u001b[0m \u001b[0my_points\u001b[0m\u001b[0;34m,\u001b[0m \u001b[0mmarker\u001b[0m\u001b[0;34m=\u001b[0m\u001b[0;34m'o'\u001b[0m\u001b[0;34m,\u001b[0m \u001b[0mmarkerfacecolor\u001b[0m\u001b[0;34m=\u001b[0m\u001b[0;34m'blue'\u001b[0m\u001b[0;34m,\u001b[0m \u001b[0mmarkersize\u001b[0m\u001b[0;34m=\u001b[0m\u001b[0;36m6\u001b[0m\u001b[0;34m)\u001b[0m\u001b[0;34m\u001b[0m\u001b[0;34m\u001b[0m\u001b[0m\n",
      "\u001b[0;31mNameError\u001b[0m: name 'knn_values' is not defined"
     ]
    }
   ],
   "source": [
    "x_points = knn_values\n",
    "y_points = overall_fold_accuracy\n",
    "\n",
    "# plotting the points\n",
    "plt.plot(x_points, y_points, marker='o', markerfacecolor='blue', markersize=6)\n",
    "\n",
    "plt.xlabel('k-nearest neighbors')\n",
    "plt.ylabel('Accuracy')\n",
    "plt.title('5-Fold Cross Validation Accuracies')\n",
    " \n",
    "# function to show the plot\n",
    "plt.show()"
   ]
  },
  {
   "cell_type": "code",
   "execution_count": null,
   "metadata": {},
   "outputs": [],
   "source": []
  }
 ],
 "metadata": {
  "kernelspec": {
   "display_name": "Python 3",
   "language": "python",
   "name": "python3"
  },
  "language_info": {
   "codemirror_mode": {
    "name": "ipython",
    "version": 3
   },
   "file_extension": ".py",
   "mimetype": "text/x-python",
   "name": "python",
   "nbconvert_exporter": "python",
   "pygments_lexer": "ipython3",
   "version": "3.8.5"
  }
 },
 "nbformat": 4,
 "nbformat_minor": 4
}
