{
 "cells": [
  {
   "cell_type": "code",
   "execution_count": 1,
   "metadata": {},
   "outputs": [],
   "source": [
    "import torch\n",
    "import torchvision\n",
    "from torch.utils.data import DataLoader\n",
    "from torchvision import datasets, transforms\n",
    "from torchvision.transforms import ToTensor, Compose\n",
    "import matplotlib.pyplot as plt\n",
    "import numpy as np\n",
    "import time "
   ]
  },
  {
   "cell_type": "markdown",
   "metadata": {},
   "source": [
    "### Prepare the data"
   ]
  },
  {
   "cell_type": "code",
   "execution_count": 136,
   "metadata": {},
   "outputs": [],
   "source": [
    "train_dataset = datasets.CIFAR10(root='data/', download=False, train=True, transform=ToTensor())\n",
    "test_dataset = datasets.CIFAR10(root='data/', download=False, train=False, transform=ToTensor())"
   ]
  },
  {
   "cell_type": "code",
   "execution_count": 193,
   "metadata": {},
   "outputs": [
    {
     "name": "stdout",
     "output_type": "stream",
     "text": [
      "(50000, 32, 32, 3)\n",
      "(50000, 1)\n",
      "(10000, 32, 32, 3)\n",
      "(10000, 1)\n"
     ]
    }
   ],
   "source": [
    "X_train = train_dataset.data\n",
    "y_train = np.array(train_dataset.targets)\n",
    "\n",
    "X_test = test_dataset.data\n",
    "y_test = np.array(test_dataset.targets)\n",
    "\n",
    "#normalize the data for testing \n",
    "y_train = y_train.reshape(-1,1)\n",
    "y_test = y_test.reshape(-1,1)\n",
    "X_train = (X_train/255)\n",
    "X_test = (X_test/255)\n",
    "\n",
    "print(X_train.shape)\n",
    "print(y_train.shape)\n",
    "print(X_test.shape)\n",
    "print(y_test.shape)"
   ]
  },
  {
   "cell_type": "code",
   "execution_count": 194,
   "metadata": {},
   "outputs": [
    {
     "name": "stdout",
     "output_type": "stream",
     "text": [
      "(50000, 3072)\n",
      "(50000, 1)\n",
      "(10000, 3072)\n",
      "(10000, 1)\n"
     ]
    }
   ],
   "source": [
    "train_size = len(X_train)\n",
    "test_size = len(X_test)\n",
    "\n",
    "X_train = X_train.reshape((train_size,32*32*3 ))\n",
    "X_test = X_test.reshape((test_size, 32*32*3))\n",
    "\n",
    "print(X_train.shape)\n",
    "print(y_train.shape)\n",
    "print(X_test.shape)\n",
    "print(y_test.shape)"
   ]
  },
  {
   "cell_type": "code",
   "execution_count": 201,
   "metadata": {},
   "outputs": [
    {
     "name": "stdout",
     "output_type": "stream",
     "text": [
      "(10000, 3072) (1000, 3072)\n",
      "(10000, 1) (1000, 1)\n"
     ]
    }
   ],
   "source": [
    "sample_training_size = 10000\n",
    "X_train = np.array(X_train[0:sample_training_size])\n",
    "y_train = np.array(y_train[0:sample_training_size])\n",
    "\n",
    "sample_testing_size = 1000\n",
    "X_test = np.array(X_test[0:sample_testing_size])\n",
    "y_test = np.array(y_test[0:sample_testing_size])\n",
    "\n",
    "print(X_train.shape, X_test.shape)\n",
    "print(y_train.shape, y_test.shape)"
   ]
  },
  {
   "cell_type": "markdown",
   "metadata": {},
   "source": [
    "## Kmeans "
   ]
  },
  {
   "cell_type": "code",
   "execution_count": 207,
   "metadata": {},
   "outputs": [],
   "source": [
    "def euclidean_distance(point1, point2): \n",
    "    return np.sqrt(np.sum(np.square(point1-point2), axis=1))\n",
    "\n",
    "\n",
    "class kmeans(): \n",
    "\n",
    "    def __init__(self, k, max_iterations=100): \n",
    "        super().__init__()\n",
    "        self.k = k \n",
    "        self.centroids = []\n",
    "        self.max_iterations = max_iterations\n",
    "\n",
    "    def fit(self, X, y): \n",
    "        \n",
    "        self.X_train = X\n",
    "        self.y_train = y\n",
    "        \n",
    "        self.size = X.shape[0] \n",
    "        self.features = len(X[0])\n",
    "      \n",
    "        self.init_centroids()\n",
    "        self.convergence()\n",
    "      \n",
    "    def convergence(self): \n",
    "        \n",
    "        convergence = False\n",
    "        index = 0 \n",
    "        \n",
    "        while not convergence: \n",
    "            #print(f'current index: {index}')\n",
    "            index += 1 \n",
    "            \n",
    "            self.clusters = self.init_clusters()\n",
    "            \n",
    "            prev_centroids = self.centroids \n",
    "            self.centroids = self.new_centroids(self.clusters)\n",
    "            \n",
    "            if(index == self.max_iterations): \n",
    "                convergence = True \n",
    "            \n",
    "            if (self.centroids == prev_centroids).all():\n",
    "                convergence = True \n",
    "                #print(f\"Kmeans converged after {idx} iterations\")\n",
    "     \n",
    "                \n",
    "    def init_centroids(self): \n",
    "        \n",
    "        for i in range(self.k): \n",
    "            centroid_index = np.random.choice(self.size)\n",
    "            centroid = self.X_train[centroid_index]\n",
    "            self.centroids.append(centroid)\n",
    "            \n",
    "\n",
    "    def init_clusters(self): \n",
    "        clusters = [[] for i in range(self.k)]\n",
    "\n",
    "        for point_index, point in enumerate(self.X_train): \n",
    "            distance_between = euclidean_distance(point, self.centroids)            \n",
    "            closest_clusters = np.argmin(distance_between)\n",
    "            clusters[closest_clusters].append(point_index)\n",
    "        \n",
    "        return clusters \n",
    "        \n",
    "    def new_centroids(self, clusters):\n",
    "        temp_centroids = np.empty((self.k, self.features)) \n",
    "\n",
    "        for cluster_index, cluster in enumerate(clusters):\n",
    "            centroid_mean = np.mean(self.X_train[cluster], axis=0)\n",
    "            temp_centroids[cluster_index] = centroid_mean \n",
    "        \n",
    "        return temp_centroids \n",
    "\n",
    "    def predict_cluster(self, X):\n",
    "\n",
    "        cluster_sizes = []\n",
    "\n",
    "        for item in self.clusters: \n",
    "            cluster_sizes.append(len(item))\n",
    "\n",
    "        print(cluster_sizes)\n",
    "\n",
    "        y_pred = np.empty(X.shape[0])\n",
    "        bucket = []\n",
    "\n",
    "        for cluster in self.clusters:\n",
    "            temp_label = [self.y_train[i] for i in cluster]\n",
    "            most_common = np.ravel(temp_label)\n",
    "            count = np.bincount(most_common) \n",
    "            most_popular = np.argmax(count)\n",
    "            bucket.append(most_popular)\n",
    "            \n",
    "        print(bucket)\n",
    "      \n",
    "        for sample_index, sample in enumerate(X): \n",
    "            distance_between = euclidean_distance(self.centroids, sample)\n",
    "            cluster_index = np.argmin(distance_between)\n",
    "            y_pred[sample_index] = bucket[cluster_index]\n",
    "      \n",
    "        return y_pred.reshape(-1,1).astype(int)  \n"
   ]
  },
  {
   "cell_type": "code",
   "execution_count": 189,
   "metadata": {},
   "outputs": [],
   "source": [
    "classes = train_dataset.classes\n",
    "\n",
    "def overall_accuracy(y_pred, y_score): \n",
    "  total_pred = np.zeros(10)\n",
    "  correct_pred = np.zeros(10)\n",
    "\n",
    "  for label, prediction in zip(y_score, y_pred):\n",
    "    if label[0] == prediction[0]:\n",
    "      correct_pred[label[0]] += 1 \n",
    "    total_pred[label[0]] += 1 \n",
    "\n",
    "  #overall accuracy \n",
    "  num_correct = np.sum(y_pred == y_score)\n",
    "  overall_acc = float(num_correct) / y_score.shape[0]\n",
    "  \n",
    "  print(f'Accuracy {num_correct} / { y_score.shape[0]} correct: {overall_acc}')\n",
    "  print('------------------------------------------------')\n",
    "  # print accuracy for each class\n",
    "  for i in range(10):\n",
    "      accuracy = 100 * float(correct_pred[i]) / total_pred[i]\n",
    "      print(f'Accuracy for class: {classes[i]} is {correct_pred[i].astype(int)}/{total_pred[i].astype(int)}: {accuracy:.2f} % ')"
   ]
  },
  {
   "cell_type": "code",
   "execution_count": 208,
   "metadata": {},
   "outputs": [
    {
     "name": "stdout",
     "output_type": "stream",
     "text": [
      "Testing on subset of data\n",
      "Starting Training \n",
      "training size: 10000 testing size: 1000\n",
      "\n",
      "current index: 0\n",
      "current index: 1\n",
      "current index: 2\n",
      "current index: 3\n",
      "current index: 4\n",
      "current index: 5\n",
      "current index: 6\n",
      "current index: 7\n",
      "current index: 8\n",
      "current index: 9\n",
      "current index: 10\n",
      "current index: 11\n",
      "current index: 12\n",
      "current index: 13\n",
      "current index: 14\n",
      "current index: 15\n",
      "current index: 16\n",
      "current index: 17\n",
      "current index: 18\n",
      "current index: 19\n",
      "Training completed in 0m 9s\n"
     ]
    }
   ],
   "source": [
    "np.random.seed(22)\n",
    "\n",
    "print(\"Testing on subset of data\")\n",
    "start_time = time.time()\n",
    "\n",
    "print(\"Starting Training \")\n",
    "print(f\"training size: {X_train.shape[0]} testing size: {X_test.shape[0]}\")\n",
    "print()\n",
    "\n",
    "model = kmeans(5, 20)\n",
    "model.fit(X_train,y_train)\n",
    "\n",
    "\n",
    "total_time = time.time() - start_time \n",
    "print('Training completed in {:.0f}m {:.0f}s'.format(total_time // 60, total_time % 60))"
   ]
  },
  {
   "cell_type": "code",
   "execution_count": 209,
   "metadata": {},
   "outputs": [
    {
     "name": "stdout",
     "output_type": "stream",
     "text": [
      "[1904, 2377, 2343, 1537, 1839]\n",
      "[5, 6, 7, 0, 8]\n",
      "Accuracy 221 / 1000 correct: 0.221\n",
      "------------------------------------------------\n",
      "Accuracy for class: airplane is 40/103: 38.83 % \n",
      "Accuracy for class: automobile is 0/89: 0.00 % \n",
      "Accuracy for class: bird is 0/100: 0.00 % \n",
      "Accuracy for class: cat is 0/103: 0.00 % \n",
      "Accuracy for class: deer is 0/90: 0.00 % \n",
      "Accuracy for class: dog is 32/86: 37.21 % \n",
      "Accuracy for class: frog is 51/112: 45.54 % \n",
      "Accuracy for class: horse is 37/102: 36.27 % \n",
      "Accuracy for class: ship is 61/106: 57.55 % \n",
      "Accuracy for class: truck is 0/109: 0.00 % \n"
     ]
    }
   ],
   "source": [
    "y_pred = model.predict_cluster(X_test)  \n",
    "overall_accuracy(y_pred, y_test)"
   ]
  },
  {
   "cell_type": "code",
   "execution_count": 141,
   "metadata": {},
   "outputs": [
    {
     "name": "stdout",
     "output_type": "stream",
     "text": [
      "0.101\n",
      "1\n"
     ]
    }
   ],
   "source": [
    "print(np.sum(y_pred == y_test)/len(y_test))\n",
    "\n",
    "temp = np.random.choice(range(len([1,2,3,5,7])))\n",
    "print(temp)"
   ]
  },
  {
   "cell_type": "code",
   "execution_count": 206,
   "metadata": {},
   "outputs": [
    {
     "name": "stdout",
     "output_type": "stream",
     "text": [
      "10000\n",
      "9181\n",
      "[0.40392157 0.42352941 0.48627451 ... 0.83137255 0.65098039 0.54509804]\n",
      "3072\n"
     ]
    }
   ],
   "source": [
    "print(X_train.shape[0])\n",
    "print(np.random.choice(X_train.shape[0]))\n",
    "print(X_train[5328])\n",
    "print(len(X_train[0]))"
   ]
  },
  {
   "cell_type": "markdown",
   "metadata": {},
   "source": [
    "## Cross Fold Validation "
   ]
  },
  {
   "cell_type": "code",
   "execution_count": 84,
   "metadata": {},
   "outputs": [
    {
     "name": "stdout",
     "output_type": "stream",
     "text": [
      "(50000, 3072)\n",
      "(50000, 1)\n",
      "5\n",
      "10000\n"
     ]
    }
   ],
   "source": [
    "total_folds = 5\n",
    "knn_values = [3,5,7,11]\n",
    "\n",
    "print(X_train.shape)\n",
    "print(y_train.shape)\n",
    "\n",
    "X_train_fold = np.array_split(X_train, total_folds)\n",
    "y_train_fold = np.array_split(y_train, total_folds)\n",
    "\n",
    "print(len(X_train_fold))\n",
    "print(len(y_train_fold[0]))"
   ]
  },
  {
   "cell_type": "code",
   "execution_count": 88,
   "metadata": {},
   "outputs": [
    {
     "name": "stdout",
     "output_type": "stream",
     "text": [
      "Starting K-Fold Testing\n",
      "[17363, 14297, 8340]\n",
      "[6, 9, 0]\n",
      "K: 03, cv: 0, Runtime: 1m 2s , Accuracy: 0.183\n",
      "[8396, 17652, 13952]\n",
      "[0, 6, 9]\n",
      "K: 03, cv: 1, Runtime: 1m 9s , Accuracy: 0.1708\n",
      "[8271, 14283, 17446]\n",
      "[0, 9, 6]\n",
      "K: 03, cv: 2, Runtime: 1m 21s , Accuracy: 0.1797\n",
      "[8163, 14148, 17689]\n",
      "[0, 9, 6]\n",
      "K: 03, cv: 3, Runtime: 1m 41s , Accuracy: 0.1725\n",
      "[17523, 8087, 14390]\n",
      "[6, 0, 9]\n",
      "K: 03, cv: 4, Runtime: 2m 29s , Accuracy: 0.1787\n",
      "[9549, 8471, 4961, 9537, 7482]\n",
      "[5, 6, 0, 1, 8]\n",
      "K: 05, cv: 0, Runtime: 2m 43s , Accuracy: 0.1938\n",
      "[7255, 5075, 11115, 9297, 7258]\n",
      "[6, 0, 5, 9, 7]\n",
      "K: 05, cv: 1, Runtime: 2m 8s , Accuracy: 0.1808\n",
      "[7027, 5088, 9278, 7518, 11089]\n",
      "[6, 0, 9, 5, 4]\n",
      "K: 05, cv: 2, Runtime: 2m 33s , Accuracy: 0.1889\n",
      "[9362, 8430, 5033, 9529, 7646]\n",
      "[1, 6, 0, 5, 8]\n",
      "K: 05, cv: 3, Runtime: 2m 3s , Accuracy: 0.1852\n",
      "[7427, 11154, 7197, 9229, 4993]\n",
      "[7, 5, 6, 9, 0]\n",
      "K: 05, cv: 4, Runtime: 2m 47s , Accuracy: 0.1877\n",
      "[7231, 6090, 5877, 5268, 6243, 5651, 3640]\n",
      "[9, 6, 8, 8, 2, 4, 0]\n",
      "K: 07, cv: 0, Runtime: 3m 11s , Accuracy: 0.2037\n",
      "[5003, 6182, 7186, 5760, 6109, 6044, 3716]\n",
      "[8, 2, 9, 4, 6, 9, 0]\n",
      "K: 07, cv: 1, Runtime: 3m 28s , Accuracy: 0.1866\n",
      "[5748, 5934, 5960, 4842, 7420, 3898, 6198]\n",
      "[4, 9, 6, 8, 9, 0, 2]\n",
      "K: 07, cv: 2, Runtime: 4m 29s , Accuracy: 0.1958\n",
      "[6521, 5685, 3462, 6254, 6409, 6113, 5556]\n",
      "[9, 8, 0, 6, 2, 5, 4]\n",
      "K: 07, cv: 3, Runtime: 5m 53s , Accuracy: 0.2013\n",
      "[5966, 4599, 5961, 5833, 7933, 5727, 3981]\n",
      "[4, 8, 6, 7, 9, 9, 0]\n",
      "K: 07, cv: 4, Runtime: 2m 44s , Accuracy: 0.2019\n",
      "[3650, 3033, 3712, 3532, 2069, 5512, 2880, 5317, 3664, 3330, 3301]\n",
      "[8, 0, 5, 6, 0, 2, 7, 6, 9, 4, 8]\n",
      "K: 11, cv: 0, Runtime: 6m 56s , Accuracy: 0.2328\n",
      "[2804, 3175, 3607, 3603, 3297, 5567, 3274, 5294, 3594, 3665, 2120]\n",
      "[9, 0, 5, 9, 4, 2, 8, 6, 8, 6, 0]\n",
      "K: 11, cv: 1, Runtime: 3m 35s , Accuracy: 0.2262\n",
      "[2801, 3329, 3131, 3200, 3718, 5409, 5601, 3626, 3625, 3552, 2008]\n",
      "[9, 4, 0, 8, 9, 6, 2, 6, 8, 5, 0]\n",
      "K: 11, cv: 2, Runtime: 3m 22s , Accuracy: 0.2401\n",
      "[5541, 3070, 3328, 5344, 3637, 3648, 3622, 2877, 3625, 3237, 2071]\n",
      "[2, 0, 4, 6, 9, 6, 5, 9, 8, 8, 0]\n",
      "K: 11, cv: 3, Runtime: 4m 35s , Accuracy: 0.2364\n",
      "[3075, 3637, 2118, 3571, 3542, 3648, 3367, 3187, 2876, 5746, 5233]\n",
      "[0, 8, 0, 9, 6, 5, 4, 8, 7, 2, 6]\n",
      "K: 11, cv: 4, Runtime: 2m 38s , Accuracy: 0.2357\n",
      "KFold completed in 2m 38s\n"
     ]
    }
   ],
   "source": [
    "k_accuraces = []\n",
    "subset_accuraces = [] \n",
    "\n",
    "print(\"Starting K-Fold Testing\")\n",
    "start_time = time.time() \n",
    "for k in knn_values: \n",
    "  \n",
    "  current_k = []\n",
    "\n",
    "  #print(f'Current K: {k}'); \n",
    "  for fold in range(total_folds):\n",
    "    start_time = time.time()\n",
    "    #print(f'Current fold: {fold}')\n",
    "\n",
    "    X_train = []\n",
    "    y_train = []\n",
    "    \n",
    "    for i in [x for x in range(total_folds) if x != fold]: \n",
    "      X_train.append(X_train_fold[i])\n",
    "      y_train.append(y_train_fold[i])\n",
    "\n",
    "  \n",
    "    #define training and test set \n",
    "    X_train = np.concatenate(X_train)\n",
    "    y_train = np.concatenate(y_train)\n",
    "\n",
    "    X_test = X_train_fold[fold]\n",
    "    y_test = y_train_fold[fold]\n",
    "\n",
    "    #define model \n",
    "    model = kmeans(k)\n",
    "\n",
    "    model.fit(X_train, y_train) \n",
    "\n",
    "    #determine the accuracy \n",
    "    predictions = model.predict_cluster(X_test)  \n",
    "\n",
    "    num_correct = np.sum(predictions == y_test)\n",
    "    overall_acc = float(num_correct) / y_test.shape[0]\n",
    "\n",
    "    current_k.append(overall_acc)\n",
    "\n",
    "    total_time = time.time() - start_time \n",
    "    print(f'K: {k:02d}, cv: {fold}, Runtime: {total_time//60:.0f}m {total_time % 60:.0f}s , Accuracy: {overall_acc}')\n",
    "  \n",
    "  #could define a subset of accuraries as well, but would take additional time\n",
    "\n",
    "\n",
    "  k_accuraces.append(current_k)\n",
    "\n",
    "total_time = time.time() - start_time \n",
    "\n",
    "print('KFold completed in {:.0f}m {:.0f}s'.format(total_time // 60, total_time % 60))"
   ]
  },
  {
   "cell_type": "code",
   "execution_count": 89,
   "metadata": {},
   "outputs": [
    {
     "name": "stdout",
     "output_type": "stream",
     "text": [
      "Overall K-Fold Accuracies K-means \n",
      "\n",
      "k:03, Overall Accuracy:0.1769\n",
      "k:05, Overall Accuracy:0.1873\n",
      "k:07, Overall Accuracy:0.1979\n",
      "k:11, Overall Accuracy:0.2342\n"
     ]
    }
   ],
   "source": [
    "print('Overall K-Fold Accuracies K-means ')\n",
    "print('')\n",
    "\n",
    "overall_fold_accuracy = []\n",
    "\n",
    "\n",
    "for index, data in enumerate(k_accuraces):\n",
    "  overall_fold_accuracy.append(np.sum(data)/len(data))\n",
    "\n",
    "for k, accuracy in zip(knn_values, overall_fold_accuracy): \n",
    "  print(f'k:{k:02d}, Overall Accuracy:{accuracy:.4f}')"
   ]
  },
  {
   "cell_type": "markdown",
   "metadata": {},
   "source": [
    "## Test Accuracy "
   ]
  },
  {
   "cell_type": "code",
   "execution_count": 195,
   "metadata": {},
   "outputs": [
    {
     "name": "stdout",
     "output_type": "stream",
     "text": [
      "Testing Accuracy for 3\n",
      "training size: 50000 testing size: 10000\n",
      "Training completed in 3m 5s\n",
      "[17848, 21859, 10293]\n",
      "[9, 6, 0]\n",
      "Accuracy 1753 / 10000 correct: 0.1753\n",
      "------------------------------------------------\n",
      "Accuracy for class: airplane is 492/1000: 49.20 % \n",
      "Accuracy for class: automobile is 0/1000: 0.00 % \n",
      "Accuracy for class: bird is 0/1000: 0.00 % \n",
      "Accuracy for class: cat is 0/1000: 0.00 % \n",
      "Accuracy for class: deer is 0/1000: 0.00 % \n",
      "Accuracy for class: dog is 0/1000: 0.00 % \n",
      "Accuracy for class: frog is 642/1000: 64.20 % \n",
      "Accuracy for class: horse is 0/1000: 0.00 % \n",
      "Accuracy for class: ship is 0/1000: 0.00 % \n",
      "Accuracy for class: truck is 619/1000: 61.90 % \n",
      "Testing Accuracy for 5\n",
      "training size: 50000 testing size: 10000\n",
      "Training completed in 3m 4s\n",
      "[11896, 9498, 6270, 10511, 11825]\n",
      "[5, 8, 0, 6, 1]\n",
      "Accuracy 1973 / 10000 correct: 0.1973\n",
      "------------------------------------------------\n",
      "Accuracy for class: airplane is 391/1000: 39.10 % \n",
      "Accuracy for class: automobile is 316/1000: 31.60 % \n",
      "Accuracy for class: bird is 0/1000: 0.00 % \n",
      "Accuracy for class: cat is 0/1000: 0.00 % \n",
      "Accuracy for class: deer is 0/1000: 0.00 % \n",
      "Accuracy for class: dog is 394/1000: 39.40 % \n",
      "Accuracy for class: frog is 394/1000: 39.40 % \n",
      "Accuracy for class: horse is 0/1000: 0.00 % \n",
      "Accuracy for class: ship is 478/1000: 47.80 % \n",
      "Accuracy for class: truck is 0/1000: 0.00 % \n",
      "Testing Accuracy for 7\n",
      "training size: 50000 testing size: 10000\n",
      "Training completed in 7m 47s\n",
      "[7153, 7208, 7516, 9930, 5747, 4909, 7537]\n",
      "[9, 7, 6, 9, 8, 0, 4]\n",
      "Accuracy 1998 / 10000 correct: 0.1998\n",
      "------------------------------------------------\n",
      "Accuracy for class: airplane is 326/1000: 32.60 % \n",
      "Accuracy for class: automobile is 0/1000: 0.00 % \n",
      "Accuracy for class: bird is 0/1000: 0.00 % \n",
      "Accuracy for class: cat is 0/1000: 0.00 % \n",
      "Accuracy for class: deer is 265/1000: 26.50 % \n",
      "Accuracy for class: dog is 0/1000: 0.00 % \n",
      "Accuracy for class: frog is 303/1000: 30.30 % \n",
      "Accuracy for class: horse is 233/1000: 23.30 % \n",
      "Accuracy for class: ship is 234/1000: 23.40 % \n",
      "Accuracy for class: truck is 637/1000: 63.70 % \n",
      "Testing Accuracy for 11\n",
      "training size: 50000 testing size: 10000\n",
      "Training completed in 9m 14s\n",
      "[3495, 4526, 2593, 4152, 4075, 4505, 4503, 3887, 6998, 4556, 6710]\n",
      "[9, 9, 0, 4, 8, 5, 8, 0, 2, 6, 6]\n",
      "Accuracy 2374 / 10000 correct: 0.2374\n",
      "------------------------------------------------\n",
      "Accuracy for class: airplane is 387/1000: 38.70 % \n",
      "Accuracy for class: automobile is 0/1000: 0.00 % \n",
      "Accuracy for class: bird is 236/1000: 23.60 % \n",
      "Accuracy for class: cat is 0/1000: 0.00 % \n",
      "Accuracy for class: deer is 155/1000: 15.50 % \n",
      "Accuracy for class: dog is 228/1000: 22.80 % \n",
      "Accuracy for class: frog is 411/1000: 41.10 % \n",
      "Accuracy for class: horse is 0/1000: 0.00 % \n",
      "Accuracy for class: ship is 554/1000: 55.40 % \n",
      "Accuracy for class: truck is 403/1000: 40.30 % \n"
     ]
    }
   ],
   "source": [
    "k_values = [3,5,7,11] \n",
    "\n",
    "for item in k_values: \n",
    "\n",
    "    print(f\"Testing Accuracy for {item}\")\n",
    "    model = kmeans(item)\n",
    "    start_time = time.time()\n",
    "\n",
    "\n",
    "    print(f\"training size: {X_train.shape[0]} testing size: {X_test.shape[0]}\")\n",
    "    model.fit(X_train, y_train) \n",
    "\n",
    "    #determine the accuracy \n",
    "    total_time = time.time() - start_time \n",
    "    print('Training completed in {:.0f}m {:.0f}s'.format(total_time // 60, total_time % 60))\n",
    "    \n",
    "    predictions = model.predict_cluster(X_test)  \n",
    "    overall_accuracy(predictions, y_test)\n"
   ]
  },
  {
   "cell_type": "markdown",
   "metadata": {},
   "source": [
    "## Plot the Graph "
   ]
  },
  {
   "cell_type": "code",
   "execution_count": 197,
   "metadata": {},
   "outputs": [
    {
     "data": {
      "image/png": "[encoded data removed]",
      "text/plain": [
       "<Figure size 432x288 with 1 Axes>"
      ]
     },
     "metadata": {
      "needs_background": "light"
     },
     "output_type": "display_data"
    }
   ],
   "source": [
    "x_points = knn_values\n",
    "y_points = overall_fold_accuracy\n",
    "\n",
    "# plotting the points\n",
    "plt.plot(x_points, y_points, marker='o', markerfacecolor='blue', markersize=6)\n",
    "\n",
    "plt.xlabel('k-means cluster value')\n",
    "plt.ylabel('Accuracy')\n",
    "plt.title('5-Fold Cross Validation Accuracies')\n",
    " \n",
    "# function to show the plot\n",
    "plt.show()"
   ]
  },
  {
   "cell_type": "code",
   "execution_count": null,
   "metadata": {},
   "outputs": [],
   "source": []
  }
 ],
 "metadata": {
  "kernelspec": {
   "display_name": "Python 3",
   "language": "python",
   "name": "python3"
  },
  "language_info": {
   "codemirror_mode": {
    "name": "ipython",
    "version": 3
   },
   "file_extension": ".py",
   "mimetype": "text/x-python",
   "name": "python",
   "nbconvert_exporter": "python",
   "pygments_lexer": "ipython3",
   "version": "3.8.5"
  }
 },
 "nbformat": 4,
 "nbformat_minor": 4
}
